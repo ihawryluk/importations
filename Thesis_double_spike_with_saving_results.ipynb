{
  "nbformat": 4,
  "nbformat_minor": 0,
  "metadata": {
    "colab": {
      "provenance": [],
      "toc_visible": true,
      "authorship_tag": "ABX9TyMF0yP9IqhabyJPUGjVeKLu",
      "include_colab_link": true
    },
    "kernelspec": {
      "name": "python3",
      "display_name": "Python 3"
    },
    "language_info": {
      "name": "python"
    }
  },
  "cells": [
    {
      "cell_type": "markdown",
      "metadata": {
        "id": "view-in-github",
        "colab_type": "text"
      },
      "source": [
        "<a href=\"https://colab.research.google.com/github/ihawryluk/importations/blob/main/Thesis_double_spike_with_saving_results.ipynb\" target=\"_parent\"><img src=\"https://colab.research.google.com/assets/colab-badge.svg\" alt=\"Open In Colab\"/></a>"
      ]
    },
    {
      "cell_type": "markdown",
      "source": [
        "# Renewal Equation simple model\n",
        "\n",
        "Based on the code Sam shared on Zulip\n",
        "\n",
        "Possibly some more useful code here https://github.com/MLGlobalHealth/uncertainity_infectious_diseases/blob/main/notebooks/SARS_COV1_inference_FINAL.ipynb\n",
        "\n"
      ],
      "metadata": {
        "id": "25Hr9IO1yo1R"
      }
    },
    {
      "cell_type": "markdown",
      "source": [
        "Trying to keep it simple for now, assumptions:\n",
        "\n",
        "* fitting to infections only (not deaths)\n",
        "* infections == cases\n",
        "*\n"
      ],
      "metadata": {
        "id": "FZ4Mpt8V0L9S"
      }
    },
    {
      "cell_type": "code",
      "source": [
        "path = '/content/drive/My Drive/Colab Notebooks/importations/Data/Double_spike/'"
      ],
      "metadata": {
        "id": "hLtIw5vEAUAd"
      },
      "execution_count": null,
      "outputs": []
    },
    {
      "cell_type": "code",
      "execution_count": null,
      "metadata": {
        "id": "3S1IVhlyyjMo"
      },
      "outputs": [],
      "source": [
        "!pip install numpyro"
      ]
    },
    {
      "cell_type": "code",
      "source": [
        "!pip install dill"
      ],
      "metadata": {
        "id": "mns5OW4sw6zP"
      },
      "execution_count": null,
      "outputs": []
    },
    {
      "cell_type": "code",
      "source": [
        "import numpyro\n",
        "import jax\n",
        "numpyro.set_host_device_count(4)  # 4 cores\n",
        "from jax import vmap\n",
        "import jax.numpy as jnp\n",
        "import jax.random as random\n",
        "\n",
        "from numpyro.infer import Predictive\n",
        "import numpyro.distributions as dist\n",
        "import arviz as az\n",
        "from numpyro.infer import MCMC, NUTS\n",
        "from numpyro.contrib.control_flow import scan\n",
        "\n",
        "from scipy.stats import gamma\n",
        "import pandas as pd\n",
        "import numpy as np\n",
        "import matplotlib.pyplot as plt\n",
        "import seaborn as sns\n",
        "sns.set()\n",
        "\n",
        "import arviz as az\n",
        "import dill\n",
        "\n",
        "from google.colab import drive\n",
        "drive.mount('/content/drive')\n"
      ],
      "metadata": {
        "id": "x15ImYbNzQlx"
      },
      "execution_count": null,
      "outputs": []
    },
    {
      "cell_type": "markdown",
      "source": [
        "# 1. Simulate data"
      ],
      "metadata": {
        "id": "vyioAPDSOXnB"
      }
    },
    {
      "cell_type": "code",
      "source": [
        "def plot(R, mu, obs):\n",
        "  plt.figure(figsize=(10,5))\n",
        "  plt.subplot(1,2,1)\n",
        "  plt.plot(obs, label = 'all cases')\n",
        "  plt.plot(mu, label = 'importations')\n",
        "  plt.legend()\n",
        "  plt.xlabel('day')\n",
        "  plt.ylabel('observed cases')\n",
        "  plt.title('observed cases')\n",
        "  plt.subplot(1,2,2)\n",
        "  plt.plot(R, color = 'green', label='R')\n",
        "  plt.xlabel('day')\n",
        "  plt.ylabel('R')\n",
        "  plt.title('R')\n",
        "  plt.suptitle('simulated data')\n",
        "  plt.tight_layout()\n",
        "  plt.show()"
      ],
      "metadata": {
        "id": "iEaQl69E6gxn"
      },
      "execution_count": null,
      "outputs": []
    },
    {
      "cell_type": "code",
      "source": [
        "def simulate_g(n):\n",
        "  g = gamma.pdf(np.arange(n), a=3, scale=1)\n",
        "  g = g/np.sum(g)\n",
        "  return g\n",
        "\n",
        "# def simulate_R(n):\n",
        "#   R = 1.15 + np.sin(0.15 * np.arange(n))\n",
        "#   return R\n",
        "\n",
        "def simulate_R(n, inter, mult, div=1.0):\n",
        "  R = inter + np.sin(mult * np.arange(n)) / div\n",
        "  return R\n",
        "\n",
        "def simulate_mu(spikes_locs, spikes_vals):\n",
        "  mu = np.zeros(n)\n",
        "  mu[0] = 5  # to make sure the epidemic starts before the importation\n",
        "  mu[spikes_locs] = spikes_vals\n",
        "  return mu\n",
        "\n",
        "def compute_incidence_faster(R,g,mu):\n",
        "    I = jnp.ones(n)\n",
        "    for i in range(n):\n",
        "        # I = jax.ops.index_update(I,i,R[i]*jnp.dot(I[i:],g[:n-i]))  # deprecated\n",
        "        I = I.at[i].set(R[i]*jnp.dot(I[:i],np.flip(g[:i])) + mu[i])\n",
        "\n",
        "    return I"
      ],
      "metadata": {
        "id": "zC6_XL5_iXq2"
      },
      "execution_count": null,
      "outputs": []
    },
    {
      "cell_type": "code",
      "source": [
        "def simulate_R(n, inter, mult, div=1.0):\n",
        "  R = inter + np.sin(mult * np.arange(n)) / div\n",
        "  return R"
      ],
      "metadata": {
        "id": "HpE1d6_C23-y"
      },
      "execution_count": null,
      "outputs": []
    },
    {
      "cell_type": "code",
      "source": [
        "n = 50\n",
        "plt.plot(simulate_R(n, 1.15, 0.15))\n",
        "# plt.plot(simulate_R(n, 1.5, 0.15))\n",
        "plt.plot(simulate_R(n, 1.15, 0.2))\n",
        "plt.plot(simulate_R(n, 1.15, 0.2, 2.0))"
      ],
      "metadata": {
        "id": "toqkh1DI2-2k"
      },
      "execution_count": null,
      "outputs": []
    },
    {
      "cell_type": "code",
      "source": [
        "def simulate_renewal(spikes_locs, spikes_vals, inter, mult, div=1.0, n=100):\n",
        "\n",
        "  g = simulate_g(n)#.astype(int)   # discrete?\n",
        "  mu = simulate_mu(spikes_locs, spikes_vals)\n",
        "  R = simulate_R(n, inter, mult, div)\n",
        "\n",
        "  incidence = compute_incidence_faster(R,g,mu)\n",
        "  # obs = dist.Poisson(incidence).sample(random.PRNGKey(np.random.randint(10000)))\n",
        "  obs = dist.Poisson(incidence).sample(random.PRNGKey(0))\n",
        "\n",
        "  return R, incidence, g, mu, obs"
      ],
      "metadata": {
        "id": "-_GI-ZKd1fCi"
      },
      "execution_count": null,
      "outputs": []
    },
    {
      "cell_type": "code",
      "source": [
        "scenarios_names = ['placeholder',\n",
        "                   r'second spike when $R_t$ decreasing, equal spikes',\n",
        "                   r'second spike when $R_t$ decreasing, first spike higher',\n",
        "                   r'second spike when $R_t$ decreasing, second spike higher, $\\mu_2 = 150$',\n",
        "                   r'second spike when $R_t$ decreasing, second spike higher, $\\mu_2 = 300$',\n",
        "                   r'second spike when $R_t$ increasing but inc ~ 0, equal spikes',\n",
        "                   r'second spike when $R_t$ increasing but inc ~ 0, first spike higher',\n",
        "                   r'second spike when $R_t$ increasing but inc ~ 0, second spike higher, $\\mu_2 = 150$',\n",
        "                   r'second spike when $R_t$ increasing but inc ~ 0, second spike higher, $\\mu_2 = 300$',\n",
        "                  r'second spike when $R_t$ increasing, equal spikes',\n",
        "                   r'second spike when $R_t$ increasing, first spike higher',\n",
        "                   r'second spike when $R_t$ increasing, second spike higher, $\\mu_2 = 150$',\n",
        "                   r'second spike when $R_t$ increasing, second spike higher, $\\mu_2 = 300$'\n",
        "                   ]"
      ],
      "metadata": {
        "id": "_EMSczY4rwfI"
      },
      "execution_count": null,
      "outputs": []
    },
    {
      "cell_type": "code",
      "source": [
        "spikes_locs1 = [5,20] # second spike when Rt decreasing\n",
        "spikes_locs2 = [5,40] # second spike when Rt increasing but incidence close to 0\n",
        "spikes_locs3 = [5,10] # second spike when Rt increasing\n",
        "\n",
        "\n",
        "spikes_vals1 = [100, 100]\n",
        "spikes_vals2 = [150, 100]\n",
        "spikes_vals3 = [100, 150]\n",
        "spikes_vals4 = [100, 300]\n",
        "\n",
        "inter = 1.15\n",
        "mult = 0.15\n",
        "div = 1\n",
        "\n",
        "n = 50\n",
        "\n",
        "R1, inc1, g1, mu1, obs1 = simulate_renewal(spikes_locs1, spikes_vals1, inter, mult, div, n=n)\n",
        "R2, inc2, g2, mu2, obs2 = simulate_renewal(spikes_locs1, spikes_vals2, inter, mult, div, n=n)\n",
        "R3, inc3, g3, mu3, obs3 = simulate_renewal(spikes_locs1, spikes_vals3, inter, mult, div, n=n)\n",
        "R4, inc4, g4, mu4, obs4 = simulate_renewal(spikes_locs1, spikes_vals4, inter, mult, div, n=n)\n",
        "\n",
        "# R, inc, g, mu, obs = simulate_renewal(mu=None)\n",
        "\n",
        "plot(R1, mu1, obs1)\n",
        "plot(R2, mu2, obs2)\n",
        "plot(R3, mu3, obs3)\n",
        "plot(R4, mu4, obs4)\n"
      ],
      "metadata": {
        "id": "aDoOE6U96Y1L"
      },
      "execution_count": null,
      "outputs": []
    },
    {
      "cell_type": "code",
      "source": [
        "R5, inc5, g5, mu5, obs5 = simulate_renewal(spikes_locs2, spikes_vals1, inter, mult, div, n=n)\n",
        "R6, inc6, g6, mu6, obs6 = simulate_renewal(spikes_locs2, spikes_vals2, inter, mult, div, n=n)\n",
        "R7, inc7, g7, mu7, obs7 = simulate_renewal(spikes_locs2, spikes_vals3, inter, mult, div, n=n)\n",
        "R8, inc8, g8, mu8, obs8 = simulate_renewal(spikes_locs2, spikes_vals4, inter, mult, div, n=n)\n",
        "\n",
        "# R, inc, g, mu, obs = simulate_renewal(mu=None)\n",
        "\n",
        "plot(R5, mu5, obs5)\n",
        "plot(R6, mu6, obs6)\n",
        "plot(R7, mu7, obs7)\n",
        "plot(R8, mu8, obs8)"
      ],
      "metadata": {
        "id": "jhupzMVa2uCq"
      },
      "execution_count": null,
      "outputs": []
    },
    {
      "cell_type": "code",
      "source": [
        "R9, inc9, g9, mu9, obs9 = simulate_renewal(spikes_locs3, spikes_vals1, inter, mult, div, n=n)\n",
        "R10, inc10, g10, mu10, obs10 = simulate_renewal(spikes_locs3, spikes_vals2, inter, mult, div, n=n)\n",
        "R11, inc11, g11, mu11, obs11 = simulate_renewal(spikes_locs3, spikes_vals3, inter, mult, div, n=n)\n",
        "R12, inc12, g12, mu12, obs12 = simulate_renewal(spikes_locs3, spikes_vals4, inter, mult, div, n=n)\n",
        "\n",
        "# R, inc, g, mu, obs = simulate_renewal(mu=None)\n",
        "\n",
        "plot(R9, mu9, obs9)"
      ],
      "metadata": {
        "id": "kn0gltex0F0z"
      },
      "execution_count": null,
      "outputs": []
    },
    {
      "cell_type": "code",
      "source": [],
      "metadata": {
        "id": "ltACVi5_gZDE"
      },
      "execution_count": null,
      "outputs": []
    },
    {
      "cell_type": "markdown",
      "source": [
        "## Save the simulated data"
      ],
      "metadata": {
        "id": "g6UInXcbgaFw"
      }
    },
    {
      "cell_type": "code",
      "source": [
        "# get a dataframe with R_T\n",
        "Rt_df = pd.DataFrame(columns = ['R1', 'R2', 'R3', 'R3' 'R4', 'R5', 'R6', 'R7', 'R8', 'R9', 'R10', 'R11', 'R12'])\n",
        "Rt_df['R1'] = R1\n",
        "Rt_df['R2'] = R2\n",
        "Rt_df['R3'] = R3\n",
        "Rt_df['R4'] = R4\n",
        "Rt_df['R5'] = R5\n",
        "Rt_df['R6'] = R6\n",
        "Rt_df['R7'] = R7\n",
        "Rt_df['R8'] = R8\n",
        "Rt_df['R9'] = R9\n",
        "Rt_df['R10'] = R10\n",
        "Rt_df['R11'] = R11\n",
        "Rt_df['R12'] = R12\n",
        "# print(Rt_df)\n",
        "# get a dataframe with incidence\n",
        "y_df = pd.DataFrame(columns = ['y1', 'y2', 'y3', 'y4', 'y5', 'y6', 'y7', 'y8', 'y9', 'y10', 'y11', 'y12'])\n",
        "y_df['y1'] = obs1\n",
        "y_df['y2'] = obs2\n",
        "y_df['y3'] = obs3\n",
        "y_df['y4'] = obs4\n",
        "y_df['y5'] = obs5\n",
        "y_df['y6'] = obs6\n",
        "y_df['y7'] = obs7\n",
        "y_df['y8'] = obs8\n",
        "y_df['y9'] = obs9\n",
        "y_df['y10'] = obs10\n",
        "y_df['y11'] = obs11\n",
        "y_df['y12'] = obs12\n",
        "# print(y_df)\n",
        "# get a dataframe with mu\n",
        "mu_df = pd.DataFrame(columns = ['mu1', 'mu2', 'mu3', 'mu4', 'mu5', 'mu6', 'mu7', 'mu8', 'mu9', 'mu10', 'mu11', 'mu12'])\n",
        "mu_df['mu1'] = mu1\n",
        "mu_df['mu2'] = mu2\n",
        "mu_df['mu3'] = mu3\n",
        "mu_df['mu4'] = mu4\n",
        "mu_df['mu5'] = mu5\n",
        "mu_df['mu6'] = mu6\n",
        "mu_df['mu7'] = mu7\n",
        "mu_df['mu8'] = mu8\n",
        "mu_df['mu9'] = mu9\n",
        "mu_df['mu10'] = mu10\n",
        "mu_df['mu11'] = mu11\n",
        "mu_df['mu12'] = mu12\n",
        "# print(y_df)"
      ],
      "metadata": {
        "id": "GC8uGzSYge3W"
      },
      "execution_count": null,
      "outputs": []
    },
    {
      "cell_type": "code",
      "source": [
        "Rt_df.to_csv(path + 'sim_double_spike_Rt.csv', index=False)\n",
        "y_df.to_csv(path + 'sim_double_spike_y.csv', index=False)\n",
        "mu_df.to_csv(path + 'sim_double_spike_mu.csv', index=False)"
      ],
      "metadata": {
        "id": "ejq8nWuHixU_"
      },
      "execution_count": null,
      "outputs": []
    },
    {
      "cell_type": "code",
      "source": [
        "ls /content/drive/MyDrive/Colab\\ Notebooks/importations/Data/Double_spike/"
      ],
      "metadata": {
        "id": "zFy9jzSljAOv"
      },
      "execution_count": null,
      "outputs": []
    },
    {
      "cell_type": "markdown",
      "source": [
        "# 2. Inference"
      ],
      "metadata": {
        "id": "5BWas2iWOcB4"
      }
    },
    {
      "cell_type": "markdown",
      "source": [
        "## Model"
      ],
      "metadata": {
        "id": "mzBmdNJnOhRk"
      }
    },
    {
      "cell_type": "code",
      "source": [
        "def renewal(y,g,r_prior = 1.0):\n",
        "# y -- observed data\n",
        "# g -- generation/serial interval\n",
        "    def compute_incidence_faster(R,g,mu):\n",
        "        I = jnp.ones(n)\n",
        "        for i in range(n):\n",
        "            # I = jax.ops.index_update(I,i,R[i]*jnp.dot(I[i:],g[:n-i]))  # deprecated\n",
        "            I = I.at[i].set(R[i]*jnp.dot(I[:i],np.flip(g[:i])) + mu[i])\n",
        "        return I\n",
        "\n",
        "    n = y.size\n",
        "\n",
        "    # priors\n",
        "    sigma_R = numpyro.sample(\"sigma_R\", dist.Exponential(r_prior))   # mean of this is 1/lambda, so to make it smaller, make lambda bigger# 5 fits perf\n",
        "    # sigma_R = .5  # 1 is kinda good but still not solving our problem, 0.5 is perfect\n",
        "\n",
        "    sigma_mu = numpyro.sample(\"sigma_mu\", dist.Gamma(.1))\n",
        "    mult_mu = 1.0#numpyro.sample(\"mult_mu\", dist.HalfNormal(4))\n",
        "\n",
        "    theta = numpyro.sample(\"theta\", dist.Uniform(0,1))\n",
        "    temp = numpyro.sample(\"temp\", dist.Uniform(0,1))\n",
        "    bin_mu = numpyro.sample(\"bin_mu\", dist.RelaxedBernoulli(temp, probs=theta * jnp.ones(n)))   # so seems that this gives a tuple\n",
        "    # bin_mu = numpyro.sample(\"bin_mu\", dist.RelaxedBernoulli(0.5, probs=theta), (n,))   # so seems that this gives a tuple\n",
        "\n",
        "    # 1d random walk for R\n",
        "    R_d = numpyro.sample(\"R_d\", dist.GaussianRandomWalk(scale=sigma_R, num_steps=n))\n",
        "    R = numpyro.deterministic('R',jnp.exp(R_d)) # prevents from negative values\n",
        "\n",
        "    # 1d random walk for importations\n",
        "    mu_d = numpyro.sample(\"mu_d\", dist.GaussianRandomWalk(scale=sigma_mu, num_steps=n))\n",
        "    mu = numpyro.deterministic('mu', jnp.multiply(bin_mu,jnp.exp(mu_d)))\n",
        "\n",
        "    # mu = numpyro.deterministic('mu', bin_mu * jnp.exp(mu_d))\n",
        "    # mu = numpyro.deterministic('mu', jnp.exp(mu_d))\n",
        "\n",
        "    # incidence\n",
        "    incidence = numpyro.deterministic('incidence',compute_incidence_faster(R,g,mu))\n",
        "\n",
        "    # observed data\n",
        "    numpyro.sample('obs', dist.Poisson(incidence), obs=y)"
      ],
      "metadata": {
        "id": "Ri0s9QH0Odv_"
      },
      "execution_count": null,
      "outputs": []
    },
    {
      "cell_type": "markdown",
      "source": [
        "## Fit the model"
      ],
      "metadata": {
        "id": "8Gy5HQLjOmZu"
      }
    },
    {
      "cell_type": "code",
      "source": [
        "def fit(model, obs, g, r_prior=1.0):\n",
        "  mcmc = MCMC(NUTS(renewal, target_accept_prob=0.8),\n",
        "              num_chains=4,\n",
        "              num_warmup=1000,\n",
        "              num_samples=20000,\n",
        "              progress_bar=False)\n",
        "              # num_warmup=00,\n",
        "              # num_samples=500,\n",
        "              # progress_bar=True)\n",
        "  mcmc.run(random.PRNGKey(0), y=jnp.array(obs), g=jnp.array(g), r_prior=r_prior)\n",
        "  samples = mcmc.get_samples()\n",
        "  return samples, mcmc\n"
      ],
      "metadata": {
        "id": "zmMURMr-OhWy"
      },
      "execution_count": null,
      "outputs": []
    },
    {
      "cell_type": "code",
      "source": [
        "# r_pior = 0.1\n",
        "# samples1, mcmc1 = fit(renewal, obs1, g1, r_prior=r_pior)\n",
        "# with open(path + 'mcmc_1.pkl', 'wb') as f:\n",
        "#     dill.dump(mcmc1, f)\n",
        "# samples2, mcmc2 = fit(renewal, obs2, g2, r_prior=r_pior)\n",
        "# with open(path + 'mcmc_2.pkl', 'wb') as f:\n",
        "#     dill.dump(mcmc2, f)\n",
        "# samples3, mcmc3 = fit(renewal, obs3, g3, r_prior=r_pior)\n",
        "# with open(path + 'mcmc_3.pkl', 'wb') as f:\n",
        "#     dill.dump(mcmc3, f)\n",
        "# samples4, mcmc4 = fit(renewal, obs4, g4, r_prior=r_pior)\n",
        "# with open(path + 'mcmc_4.pkl', 'wb') as f:\n",
        "#     dill.dump(mcmc4, f)\n",
        "# samples5, mcmc5 = fit(renewal, obs5, g5, r_prior=r_pior)\n",
        "# with open(path + 'mcmc_5.pkl', 'wb') as f:\n",
        "#     dill.dump(mcmc5, f)\n",
        "# samples6, mcmc6 = fit(renewal, obs6, g6, r_prior=r_pior)\n",
        "# with open(path + 'mcmc_6.pkl', 'wb') as f:\n",
        "#     dill.dump(mcmc6, f)\n",
        "# samples7, mcmc7 = fit(renewal, obs7, g7, r_prior=r_pior)\n",
        "# with open(path + 'mcmc_7.pkl', 'wb') as f:\n",
        "#     dill.dump(mcmc7, f)\n",
        "# samples8, mcmc8 = fit(renewal, obs8, g8, r_prior=r_pior)\n",
        "# with open(path + 'mcmc_8.pkl', 'wb') as f:\n",
        "#     dill.dump(mcmc8, f)\n",
        "# samples9, mcmc9 = fit(renewal, obs9, g9, r_prior=r_pior)\n",
        "# with open(path + 'mcmc_9.pkl', 'wb') as f:\n",
        "#     dill.dump(mcmc9, f)\n",
        "# samples10, mcmc10 = fit(renewal, obs10, g10, r_prior=r_pior)\n",
        "# with open(path + 'mcmc_10.pkl', 'wb') as f:\n",
        "#     dill.dump(mcmc10, f)\n",
        "# samples11, mcmc11 = fit(renewal, obs11, g11, r_prior=r_pior)\n",
        "# with open(path + 'mcmc_11.pkl', 'wb') as f:\n",
        "#     dill.dump(mcmc11, f)\n",
        "# samples12, mcmc12 = fit(renewal, obs12, g12, r_prior=r_pior)\n",
        "# with open(path + 'mcmc_12.pkl', 'wb') as f:\n",
        "#     dill.dump(mcmc12, f)\n"
      ],
      "metadata": {
        "id": "U7zH_AblGTO4"
      },
      "execution_count": null,
      "outputs": []
    },
    {
      "cell_type": "markdown",
      "source": [
        "## Plot and compare results"
      ],
      "metadata": {
        "id": "wE509wPaOpxW"
      }
    },
    {
      "cell_type": "code",
      "source": [
        "def plot_sigmas(samples):\n",
        "  plt.figure(figsize=(15,5))\n",
        "  plt.subplot(1,3,1)\n",
        "  plt.hist(samples['sigma_mu'], label = 'posterior')\n",
        "  # plt.axvline(x = sigma_mu, color='red', label = 'true')\n",
        "  plt.legend()\n",
        "  plt.xlabel('sigma_mu')\n",
        "\n",
        "  plt.subplot(1,3,2)\n",
        "  plt.hist(samples['sigma_R'], label = 'posterior')\n",
        "  # plt.axvline(x = sigma_R, color='red', label = 'true')\n",
        "  plt.legend()\n",
        "  plt.xlabel('sigma_R')\n",
        "\n",
        "  # plt.subplot(1,3,3)\n",
        "  # plt.hist(samples['mult_mu'], label = 'posterior')\n",
        "  # # plt.axvline(x = 5, color='red', label = 'true')\n",
        "  # plt.legend()\n",
        "  # plt.xlabel('mult_mu')\n",
        "\n",
        "  plt.subplot(1,3,3)\n",
        "  plt.hist(samples['theta'], label = 'posterior')\n",
        "  # plt.axvline(x = 5, color='red', label = 'true')\n",
        "  plt.legend()\n",
        "  plt.xlabel('theta')\n",
        "\n",
        "  plt.show()\n",
        "\n",
        "def plot_posterior(samples, R, mu, inc, title=None):\n",
        "  plt.figure(figsize=(15,5))\n",
        "\n",
        "  x = np.arange(n)\n",
        "  plt.subplot(1,3,1)\n",
        "  # plt.plot(samples['R'][0::100,:].T, color = 'b', alpha=0.5, label = 'posterior')\n",
        "  plt.fill_between(x, np.percentile(samples['R'], 5, axis=0), np.percentile(samples['R'], 95, axis=0), alpha=0.3, label='CrI', color='tab:blue')\n",
        "  plt.plot(x, np.percentile(samples['R'], 50, axis=0), label='post median', color='tab:blue')\n",
        "  plt.plot(R, color = 'red', alpha=1.0, label = 'true')\n",
        "  plt.legend()\n",
        "  plt.ylim(-0.5,14)\n",
        "  plt.xlabel('days')\n",
        "  plt.ylabel(r'$R_t$')\n",
        "  plt.title(r'$R_t$')\n",
        "\n",
        "  plt.subplot(1,3,2)\n",
        "  # plt.plot(samples['mu'][0::100,:].T, color = 'b', alpha=0.5, label = 'posterior')\n",
        "  plt.fill_between(x, np.percentile(samples['mu'], 5, axis=0), np.percentile(samples['mu'], 95, axis=0), alpha=0.3, label='CrI', color='tab:blue')\n",
        "  plt.plot(x, np.percentile(samples['mu'], 50, axis=0), label='post median', color='tab:blue')\n",
        "  plt.plot(mu, color = 'red', alpha=1.0, label = 'true')\n",
        "  plt.legend()\n",
        "  # plt.ylim(0,np.max((samples['mu'].max(), mu.max()))*1.1)\n",
        "  # plt.ylim(0, mu.max() * 2)\n",
        "  plt.xlabel('days')\n",
        "  plt.ylabel('# importations')\n",
        "  plt.title('Importations')\n",
        "\n",
        "  plt.subplot(1,3,3)\n",
        "  # plt.plot(samples['incidence'][0::100,:].T, color = 'b', alpha=0.5, label = 'posterior')\n",
        "  plt.fill_between(x, np.percentile(samples['incidence'], 5, axis=0), np.percentile(samples['incidence'], 95, axis=0), alpha=0.3, label='CrI', color='tab:blue')\n",
        "  plt.plot(x, np.percentile(samples['incidence'], 50, axis=0), label='post median', color='tab:blue')\n",
        "  plt.plot(inc, color = 'red', alpha=1.0, label = 'true')\n",
        "  # plt.ylim(0,samples['incidence'].max())\n",
        "  plt.legend()\n",
        "  plt.xlabel('days')\n",
        "  plt.ylabel('# new cases')\n",
        "  plt.title('Incidence')\n",
        "\n",
        "\n",
        "  if title is None:\n",
        "    plt.suptitle('Posterior predictive')\n",
        "  else:\n",
        "    plt.suptitle('Posterior predictive, ' + title)\n",
        "  plt.tight_layout()\n",
        "  plt.show()"
      ],
      "metadata": {
        "id": "fMu8hd1lH8d3"
      },
      "execution_count": null,
      "outputs": []
    },
    {
      "cell_type": "code",
      "source": [
        "r_pior = 100.0\n",
        "# samples1a, mcmc1a = fit(renewal, obs1, g1, r_prior=r_pior)\n",
        "# with open(path + 'mcmc_1a.pkl', 'wb') as f:\n",
        "#     dill.dump(mcmc1a, f)\n",
        "# samples2a, mcmc2a = fit(renewal, obs2, g2, r_prior=r_pior)\n",
        "# with open(path + 'mcmc_2a.pkl', 'wb') as f:\n",
        "#     dill.dump(mcmc2a, f)\n",
        "# samples3a, mcmc3a = fit(renewal, obs3, g3, r_prior=r_pior)\n",
        "# with open(path + 'mcmc_3a.pkl', 'wb') as f:\n",
        "#     dill.dump(mcmc3a, f)\n",
        "# samples4a, mcmc4a = fit(renewal, obs4, g4, r_prior=r_pior)\n",
        "# with open(path + 'mcmc_4a.pkl', 'wb') as f:\n",
        "#     dill.dump(mcmc4a, f)\n",
        "# samples5a, mcmc5a = fit(renewal, obs5, g5, r_prior=r_pior)\n",
        "# with open(path + 'mcmc_5a.pkl', 'wb') as f:\n",
        "#     dill.dump(mcmc5a, f)\n",
        "# samples6a, mcmc6a = fit(renewal, obs6, g6, r_prior=r_pior)\n",
        "# with open(path + 'mcmc_6a.pkl', 'wb') as f:\n",
        "#     dill.dump(mcmc6a, f)\n",
        "# samples7a, mcmc7a = fit(renewal, obs7, g7, r_prior=r_pior)\n",
        "# with open(path + 'mcmc_7a.pkl', 'wb') as f:\n",
        "#     dill.dump(mcmc7a, f)\n",
        "# samples8a, mcmc8a = fit(renewal, obs8, g8, r_prior=r_pior)\n",
        "# with open(path + 'mcmc_8a.pkl', 'wb') as f:\n",
        "#     dill.dump(mcmc8a, f)\n",
        "# samples9a, mcmc9a = fit(renewal, obs9, g9, r_prior=r_pior)\n",
        "# with open(path + 'mcmc_9a.pkl', 'wb') as f:\n",
        "#     dill.dump(mcmc9a, f)\n",
        "samples10a, mcmc10a = fit(renewal, obs10, g10, r_prior=r_pior)\n",
        "with open(path + 'mcmc_10a.pkl', 'wb') as f:\n",
        "    dill.dump(mcmc10a, f)\n",
        "samples11a, mcmc11a = fit(renewal, obs11, g11, r_prior=r_pior)\n",
        "with open(path + 'mcmc_11a.pkl', 'wb') as f:\n",
        "    dill.dump(mcmc11a, f)\n",
        "samples12a, mcmc12a = fit(renewal, obs12, g12, r_prior=r_pior)\n",
        "with open(path + 'mcmc_12a.pkl', 'wb') as f:\n",
        "    dill.dump(mcmc12a, f)"
      ],
      "metadata": {
        "id": "NScmUyXeFaYy"
      },
      "execution_count": null,
      "outputs": []
    },
    {
      "cell_type": "markdown",
      "source": [
        "# Show in one plot"
      ],
      "metadata": {
        "id": "n_pdp8CzpNq9"
      }
    },
    {
      "cell_type": "code",
      "source": [
        "def plot_posterior_two_samples(samples1, samples2, R, mu, inc, title=None):\n",
        "  plt.figure(figsize=(20,5))\n",
        "\n",
        "  x = np.arange(n)\n",
        "  plt.subplot(1,4,1)\n",
        "  # plt.plot(samples['R'][0::100,:].T, color = 'b', alpha=0.5, label = 'posterior')\n",
        "  plt.fill_between(x, np.percentile(samples1['R'], 5, axis=0), np.percentile(samples1['R'], 95, axis=0), alpha=0.3, label='CrI', color='tab:blue')\n",
        "  plt.plot(x, np.percentile(samples1['R'], 50, axis=0), label='post median high var', color='tab:blue')\n",
        "  plt.plot(R, color = 'red', alpha=1.0, label = 'true')\n",
        "  plt.legend()\n",
        "  plt.ylim(-0.5,14)\n",
        "  plt.xlabel('days')\n",
        "  plt.ylabel(r'$R_t$')\n",
        "  plt.title(r'$R_t$ high var')\n",
        "\n",
        "  plt.subplot(1,4,2)\n",
        "  # plt.plot(samples['mu'][0::100,:].T, color = 'b', alpha=0.5, label = 'posterior')\n",
        "  plt.fill_between(x, np.percentile(samples1['mu'], 5, axis=0), np.percentile(samples1['mu'], 95, axis=0), alpha=0.3, label='CrI', color='tab:blue')\n",
        "  plt.plot(x, np.percentile(samples1['mu'], 50, axis=0), label='post median high var', color='tab:blue')\n",
        "  plt.plot(mu, color = 'red', alpha=1.0, label = r'$\\mu$')\n",
        "  plt.plot(inc, color = 'orange', alpha=1.0, label = 'total incidence')\n",
        "  plt.legend()\n",
        "  # plt.ylim(0,np.max((samples['mu'].max(), mu.max()))*1.1)\n",
        "  # plt.ylim(0, mu.max() * 2)\n",
        "  plt.xlabel('days')\n",
        "  plt.ylabel('# new cases')\n",
        "  plt.title('Importations high var')\n",
        "\n",
        "  plt.subplot(1,4,3)\n",
        "  # plt.plot(samples['R'][0::100,:].T, color = 'b', alpha=0.5, label = 'posterior')\n",
        "  plt.fill_between(x, np.percentile(samples2['R'], 5, axis=0), np.percentile(samples2['R'], 95, axis=0), alpha=0.3, label='CrI', color='tab:blue')\n",
        "  plt.plot(x, np.percentile(samples2['R'], 50, axis=0), label='post median low var', color='tab:blue')\n",
        "  plt.plot(R, color = 'red', alpha=1.0, label = 'true')\n",
        "  plt.legend()\n",
        "  plt.ylim(-0.5,14)\n",
        "  plt.xlabel('days')\n",
        "  plt.ylabel(r'$R_t$')\n",
        "  plt.title(r'$R_t$ low var')\n",
        "\n",
        "  plt.subplot(1,4,4)\n",
        "  # plt.plot(samples['mu'][0::100,:].T, color = 'b', alpha=0.5, label = 'posterior')\n",
        "  plt.fill_between(x, np.percentile(samples2['mu'], 5, axis=0), np.percentile(samples2['mu'], 95, axis=0), alpha=0.3, label='CrI', color='tab:blue')\n",
        "  plt.plot(x, np.percentile(samples2['mu'], 50, axis=0), label='post median low var', color='tab:blue')\n",
        "  plt.plot(mu, color = 'red', alpha=1.0, label = r'$\\mu$')\n",
        "  plt.plot(inc, color = 'orange', alpha=1.0, label = 'total incidence')\n",
        "  plt.legend()\n",
        "  # plt.ylim(0,np.max((samples['mu'].max(), mu.max()))*1.1)\n",
        "  # plt.ylim(0, mu.max() * 2)\n",
        "  plt.xlabel('days')\n",
        "  plt.ylabel('# new cases')\n",
        "  plt.title('Importations low var')\n",
        "\n",
        "\n",
        "  # plt.subplot(1,3,3)\n",
        "  # # plt.plot(samples['incidence'][0::100,:].T, color = 'b', alpha=0.5, label = 'posterior')\n",
        "  # plt.fill_between(x, np.percentile(samples['incidence'], 5, axis=0), np.percentile(samples['incidence'], 95, axis=0), alpha=0.3, label='CrI', color='tab:blue')\n",
        "  # plt.plot(x, np.percentile(samples['incidence'], 50, axis=0), label='post median', color='tab:blue')\n",
        "  # plt.plot(inc, color = 'red', alpha=1.0, label = 'true')\n",
        "  # # plt.ylim(0,samples['incidence'].max())\n",
        "  # plt.legend()\n",
        "  # plt.xlabel('days')\n",
        "  # plt.ylabel('# new cases')\n",
        "  # plt.title('Incidence')\n",
        "\n",
        "\n",
        "  if title is None:\n",
        "    plt.suptitle('Posterior predictive')\n",
        "  else:\n",
        "    plt.suptitle(title)\n",
        "  plt.tight_layout()\n",
        "  plt.show()"
      ],
      "metadata": {
        "id": "QyxGKOk5pQf0"
      },
      "execution_count": null,
      "outputs": []
    },
    {
      "cell_type": "code",
      "source": [
        "# plot_posterior_two_samples(samples1, samples10, R1, mu1, inc1, title=scenarios_names[1])\n",
        "# plot_posterior_two_samples(samples2, samples20, R2, mu2, inc2, title=scenarios_names[2])\n",
        "# plot_posterior_two_samples(samples3, samples30, R3, mu3, inc3, title=scenarios_names[3])\n",
        "# plot_posterior_two_samples(samples4, samples40, R4, mu4, inc4, title=scenarios_names[4])\n",
        "# plot_posterior_two_samples(samples5, samples50, R5, mu5, inc5, title=scenarios_names[5])\n",
        "# plot_posterior_two_samples(samples6, samples60, R6, mu6, inc6, title=scenarios_names[6])\n",
        "# plot_posterior_two_samples(samples7, samples70, R7, mu7, inc7, title=scenarios_names[7])\n",
        "# plot_posterior_two_samples(samples8, samples80, R8, mu8, inc8, title=scenarios_names[8])\n",
        "# plot_posterior_two_samples(samples9, samples90, R9, mu9, inc9, title=scenarios_names[9])\n"
      ],
      "metadata": {
        "id": "0I3NJlXCp-cX"
      },
      "execution_count": null,
      "outputs": []
    },
    {
      "cell_type": "code",
      "source": [
        "ls /content/drive/MyDrive/Colab\\ Notebooks/importations/Data/"
      ],
      "metadata": {
        "id": "-j-gxz-Pq2oa",
        "colab": {
          "base_uri": "https://localhost:8080/"
        },
        "outputId": "b06bfd42-a142-4841-c468-e74330cbd25a"
      },
      "execution_count": null,
      "outputs": [
        {
          "output_type": "stream",
          "name": "stdout",
          "text": [
            "\u001b[0m\u001b[01;34mDouble_spike\u001b[0m/  \u001b[01;34mSeasonal\u001b[0m/  sim_double_spike_mu.csv  sim_double_spike_Rt.csv  sim_double_spike_y.csv\n"
          ]
        }
      ]
    },
    {
      "cell_type": "markdown",
      "source": [
        "# Test different priors for R_t variance"
      ],
      "metadata": {
        "id": "yAkUTcwDO1ot"
      }
    },
    {
      "cell_type": "code",
      "source": [
        "assert(1==2)"
      ],
      "metadata": {
        "id": "-0r9RKrnQiDy",
        "colab": {
          "base_uri": "https://localhost:8080/",
          "height": 178
        },
        "outputId": "17c59807-44b5-4514-b12d-6fd3119ea68a"
      },
      "execution_count": null,
      "outputs": [
        {
          "output_type": "error",
          "ename": "AssertionError",
          "evalue": "ignored",
          "traceback": [
            "\u001b[0;31m---------------------------------------------------------------------------\u001b[0m",
            "\u001b[0;31mAssertionError\u001b[0m                            Traceback (most recent call last)",
            "\u001b[0;32m<ipython-input-53-91d16dafa3fa>\u001b[0m in \u001b[0;36m<cell line: 1>\u001b[0;34m()\u001b[0m\n\u001b[0;32m----> 1\u001b[0;31m \u001b[0;32massert\u001b[0m\u001b[0;34m(\u001b[0m\u001b[0;36m1\u001b[0m\u001b[0;34m==\u001b[0m\u001b[0;36m2\u001b[0m\u001b[0;34m)\u001b[0m\u001b[0;34m\u001b[0m\u001b[0;34m\u001b[0m\u001b[0m\n\u001b[0m",
            "\u001b[0;31mAssertionError\u001b[0m: "
          ]
        }
      ]
    },
    {
      "cell_type": "code",
      "source": [
        "r_var = [0.01, 0.1, 0.5, 1.0, 2.5, 5.0, 7.5, 10.0, 20.0, 50.0]\n",
        "samples_dict = {}"
      ],
      "metadata": {
        "id": "3ZFCYJbeO7fC"
      },
      "execution_count": null,
      "outputs": []
    },
    {
      "cell_type": "code",
      "source": [
        "for rv in r_var:\n",
        "  print(rv)\n",
        "  s = fit(renewal, obs, g, r_prior=rv)\n",
        "  samples_dict.update({rv: s})"
      ],
      "metadata": {
        "id": "rEAbYJ4kO58y"
      },
      "execution_count": null,
      "outputs": []
    },
    {
      "cell_type": "code",
      "source": [
        "for rv in r_var:\n",
        "  s = samples_dict[rv]\n",
        "  plot_posterior(s, 'R_t variance ~ Exp(' + str(rv) + ')')"
      ],
      "metadata": {
        "id": "pX7G71VxPlZe"
      },
      "execution_count": null,
      "outputs": []
    },
    {
      "cell_type": "code",
      "source": [],
      "metadata": {
        "id": "01TIsFR3Rm9l"
      },
      "execution_count": null,
      "outputs": []
    },
    {
      "cell_type": "markdown",
      "source": [
        "# Plot in one image\n"
      ],
      "metadata": {
        "id": "R4akXw7oD54u"
      }
    },
    {
      "cell_type": "code",
      "source": [
        "def plot_posterior(samples, title=None):\n",
        "  plt.figure(figsize=(15,5))\n",
        "\n",
        "  x = np.arange(n)\n",
        "  plt.subplot(1,3,1)\n",
        "  # plt.plot(samples['R'][0::100,:].T, color = 'b', alpha=0.5, label = 'posterior')\n",
        "  plt.fill_between(x, np.percentile(samples['R'], 5, axis=0), np.percentile(samples['R'], 95, axis=0), alpha=0.3, label='CrI', color='tab:blue')\n",
        "  plt.plot(x, np.percentile(samples['R'], 50, axis=0), label='post median', color='tab:blue')\n",
        "  plt.plot(R, color = 'red', alpha=1.0, label = 'true')\n",
        "  # plt.legend()\n",
        "  plt.ylim(-0.5,14)\n",
        "  plt.xlabel('days')\n",
        "  plt.ylabel(r'$R_t$')\n",
        "  plt.title(r'$R_t$')\n",
        "\n",
        "  plt.subplot(1,3,2)\n",
        "  # plt.plot(samples['mu'][0::100,:].T, color = 'b', alpha=0.5, label = 'posterior')\n",
        "  plt.fill_between(x, np.percentile(samples['mu'], 5, axis=0), np.percentile(samples['mu'], 95, axis=0), alpha=0.3, label='CrI', color='tab:blue')\n",
        "  plt.plot(x, np.percentile(samples['mu'], 50, axis=0), label='post median', color='tab:blue')\n",
        "  plt.plot(mu, color = 'red', alpha=1.0, label = 'true')\n",
        "  # plt.legend()\n",
        "  # plt.ylim(0,np.max((samples['mu'].max(), mu.max()))*1.1)\n",
        "  # plt.ylim(0, mu.max() * 2)\n",
        "  plt.xlabel('days')\n",
        "  plt.ylabel('# importations')\n",
        "  plt.title('Importations')\n",
        "\n",
        "  plt.subplot(1,3,3)\n",
        "  # plt.plot(samples['incidence'][0::100,:].T, color = 'b', alpha=0.5, label = 'posterior')\n",
        "  plt.fill_between(x, np.percentile(samples['incidence'], 5, axis=0), np.percentile(samples['incidence'], 95, axis=0), alpha=0.3, label='CrI', color='tab:blue')\n",
        "  plt.plot(x, np.percentile(samples['incidence'], 50, axis=0), label='posterior median', color='tab:blue')\n",
        "  plt.plot(inc, color = 'red', alpha=1.0, label = 'true')\n",
        "  # plt.ylim(0,samples['incidence'].max())\n",
        "  plt.legend()\n",
        "  plt.xlabel('days')\n",
        "  plt.ylabel('# new cases')\n",
        "  plt.title('Incidence')\n",
        "\n",
        "\n",
        "  if title is None:\n",
        "    plt.suptitle('Posterior predictive')\n",
        "  else:\n",
        "    plt.suptitle('Posterior predictive, ' + title)\n",
        "  plt.tight_layout()\n",
        "  plt.show()"
      ],
      "metadata": {
        "id": "PVJGaReND9mx"
      },
      "execution_count": null,
      "outputs": []
    },
    {
      "cell_type": "code",
      "source": [
        "samples_dict.keys()"
      ],
      "metadata": {
        "id": "Vo8G40VeEgEd"
      },
      "execution_count": null,
      "outputs": []
    },
    {
      "cell_type": "code",
      "source": [
        "r_var_plots = [0.01, 0.1, 0.5, 1.0, 2.5, 5.0, 7.5, 10.0, 20.0, 50.0]"
      ],
      "metadata": {
        "id": "7SJwWv1MEnV8"
      },
      "execution_count": null,
      "outputs": []
    },
    {
      "cell_type": "code",
      "source": [
        "for rv in r_var:\n",
        "  s = samples_dict[rv]\n",
        "  plot_posterior(s, 'R_t variance ~ Exp(' + str(rv) + ')')"
      ],
      "metadata": {
        "id": "t_7A69P2Ec-j"
      },
      "execution_count": null,
      "outputs": []
    }
  ]
}